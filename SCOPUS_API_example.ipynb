{
 "metadata": {
  "language_info": {
   "codemirror_mode": {
    "name": "ipython",
    "version": 3
   },
   "file_extension": ".py",
   "mimetype": "text/x-python",
   "name": "python",
   "nbconvert_exporter": "python",
   "pygments_lexer": "ipython3",
   "version": "3.8.6-final"
  },
  "orig_nbformat": 2,
  "kernelspec": {
   "name": "python3",
   "display_name": "Python 3",
   "language": "python"
  }
 },
 "nbformat": 4,
 "nbformat_minor": 2,
 "cells": [
  {
   "source": [
    "## SCOPUS API WITH PYBLIOMETRICS LIBRARY\n",
    "Notebook to extract useful info from scopus datasets. Starting dataset: AUTHOR NAME and SURNAME. from this info, this program is able to extract:\n",
    "* number of citations \n",
    "* number of publications/documents\n",
    "* H index\n",
    "* H index in the last 15 years (from 2005)\n",
    "\n",
    "**IMPORTANT** In order to access scopus, you should be connected to a network from a scopus affiliation (e.g. university). When you ask a request to scopus, it searches for your IP and check if correspond to a known network.\n",
    "**VPN** is not working.\n",
    "\n"
   ],
   "cell_type": "markdown",
   "metadata": {}
  },
  {
   "source": [
    "### An API KEY is necessary to access scopus information. \n",
    "ask for you key on https://dev.elsevier.com/\n",
    "\n",
    "*key=\"xxxxxxxxxxxxxxxxxxxx\"*\n",
    "\n",
    "then add your key on config.ini file. It is automatically created probably in the following directory:\n",
    "*C:/Users/<username\\>/.scopus/config.ini*\n"
   ],
   "cell_type": "markdown",
   "metadata": {}
  },
  {
   "cell_type": "code",
   "execution_count": null,
   "metadata": {},
   "outputs": [],
   "source": [
    "import requests\n",
    "import json\n",
    "import pandas as pd\n",
    "import re\n",
    "import numpy as np\n",
    "\n",
    "import pybliometrics \n",
    "from pybliometrics.scopus import AuthorSearch\n",
    "from pybliometrics.scopus import AuthorRetrieval\n",
    "from pybliometrics.scopus import ScopusSearch"
   ]
  },
  {
   "source": [
    "config.ini is directly accessed calling pybliometrics.\n",
    "if this is not working you can directly set the direction where the program is going to search for conig.ini file.\n",
    "\n",
    "import os\n",
    "*os.environ['PYB_CONFIG_FILE'] = \"C:/Users/<username\\>/.scopus/config.ini\"*\n"
   ],
   "cell_type": "markdown",
   "metadata": {}
  },
  {
   "cell_type": "code",
   "execution_count": null,
   "metadata": {},
   "outputs": [],
   "source": [
    "#Read excel file\n",
    "file_path='path/to/file.xlsx'\n",
    "df = pd.read_excel (file_path, engine='openpyxl')\n",
    "print (df)\n"
   ]
  },
  {
   "cell_type": "code",
   "execution_count": null,
   "metadata": {},
   "outputs": [],
   "source": [
    "#if your dataset has name and surname in the same cell, split name and surname in two different columns. you'll need it later\n",
    "df[\"Surname\"]=\"\"\n",
    "for i in range(df.shape[0]):\n",
    "    splitted=df[\"Name\"][i].split(\"\\xa0\")\n",
    "    df[\"Name\"][i]=splitted[1]\n",
    "    df[\"Surname\"][i]=splitted[0].title()\n",
    "print(df)"
   ]
  },
  {
   "cell_type": "code",
   "execution_count": null,
   "metadata": {},
   "outputs": [],
   "source": [
    "#reorder dataset\n",
    "df=df[[\"Name\", \"Surname\", \"Gender\", \"Affil\", \"Documents\", \"Citations\", \"H\", \"H15\"]]"
   ]
  },
  {
   "cell_type": "code",
   "execution_count": null,
   "metadata": {},
   "outputs": [],
   "source": [
    "print(df.iloc[0:5,:])"
   ]
  },
  {
   "source": [
    "## AUTHOR SEARCH API\n",
    "autorsearch can take different parameters as input. e.g.: AUTHLAST (surname) AUTHFIRST (name) AFFIL (university; it can be also part of the name such as city). \n",
    "\n",
    "This step is necessary if you don't have the AUTH_ID or the EID of the research. \n",
    "\n",
    "## AUTHOR RETRIVAL API\n",
    "This is the main API to access author data. It requires EID or AUTH ID as input.\n",
    "Then it returns several parameters. We are interested in :\n",
    "\n",
    "1. citations: au.citation_count\n",
    "2. documents: au.document_count\n",
    "3. H index: au.h_index\n",
    "\n",
    "We are also itnerested in the H index in the last 15 years. We have to compute that by hand, searching all documents published in the last 15 years, checking their citations and computing H index. \n",
    "\n",
    "\n"
   ],
   "cell_type": "markdown",
   "metadata": {}
  },
  {
   "cell_type": "code",
   "execution_count": null,
   "metadata": {
    "tags": []
   },
   "outputs": [],
   "source": [
    "for i in range(df.shape[0]):\n",
    "    \n",
    "    #AUTHOR SEARCH\n",
    "    api=\"AUTHLAST({}) and AUTHFIRST({}) and AFFIL({})\".format(df[\"Surname\"][i], df[\"Name\"][i], df[\"Affil\"][i])\n",
    "    s = AuthorSearch(api)\n",
    "    df_auth=pd.DataFrame(s.authors)\n",
    "\n",
    "    #AUTHOR RETRIEVAL\n",
    "    au = AuthorRetrieval(df_auth[\"eid\"][0])\n",
    "    df[\"Citations\"][i]=int(au.citation_count)\n",
    "    df[\"Documents\"][i]=int(au.document_count)\n",
    "    df[\"H\"][i]=int(au.h_index)\n",
    "\n",
    "    #serch for all work of author x in the last 15 years\n",
    "    api_search=\"AU-ID({})AND PUBYEAR > 2004\".format(df_auth[\"eid\"][0][-11:] )\n",
    "    s = ScopusSearch(api_search)\n",
    "    s.get_results_size()\n",
    "    tot_eids=s.get_eids()\n",
    "    cit_list=[]\n",
    "    #get citations for each document and create a dataframe\n",
    "    for idx,eid in enumerate(tot_eids):\n",
    "        print(idx)\n",
    "        s = ScopusSearch(\"EID({})\".format(eid))\n",
    "        df_tmp=pd.DataFrame(s.results)      \n",
    "        cit_list.append(int(df_tmp[\"citedby_count\"][0]))\n",
    "        \n",
    "    df_cit = pd.DataFrame(cit_list, columns=[\"citations\"]) \n",
    "    #compute H index\n",
    "    for num in range(df_cit.shape[0]):\n",
    "        work=np.sum(df_cit[\"citations\"]>=num)\n",
    "        if work>num:\n",
    "            continue\n",
    "        elif work==num:\n",
    "            h_index=num\n",
    "            break\n",
    "        elif work<num:\n",
    "            h_index=num-1\n",
    "            break\n",
    "        \n",
    "    print(\"final h index\",h_index)\n",
    "\n",
    "    df[\"H15\"][i]=int(h_index)"
   ]
  },
  {
   "cell_type": "code",
   "execution_count": null,
   "metadata": {},
   "outputs": [],
   "source": [
    "#save file to excel\n",
    "df.to_excel(file_path)  "
   ]
  },
  {
   "cell_type": "code",
   "execution_count": null,
   "metadata": {},
   "outputs": [],
   "source": [
    "print(df)"
   ]
  },
  {
   "cell_type": "code",
   "execution_count": null,
   "metadata": {},
   "outputs": [],
   "source": [
    "api_search=\"AU-ID({})AND PUBYEAR > 2014\".format(df_auth[\"eid\"][0][-11:] )\n",
    "s = ScopusSearch(api_search)\n",
    "s.get_results_size()\n",
    "tot_eids=s.get_eids()\n",
    "eid_list=[]\n",
    "cit_list=[]\n",
    "for idx,eid in enumerate(tot_eids):\n",
    "    print(eid)\n",
    "    s = ScopusSearch(\"EID({})\".format(eid))\n",
    "    df_tmp=pd.DataFrame(s.results)      \n",
    "    print(df_tmp[\"citedby_count\"])\n",
    "    eid_list.append(eid)\n",
    "    cit_list.append(int(df_tmp[\"citedby_count\"][0]))\n",
    "    \n",
    "df_cit = pd.DataFrame(cit_list, columns=[\"citations\"]) \n",
    "for i in range(df_cit.shape[0]):\n",
    "    print(i)\n",
    "    work=np.sum(df_cit[\"citations\"]>=i)\n",
    "    print(work)\n",
    "    if work>i:\n",
    "        print(\"Citations\",i)\n",
    "        print(\"num work\",work)\n",
    "        continue\n",
    "    elif work==i:\n",
    "        print(\"here\")\n",
    "        print(\"Citations\",i)\n",
    "        print(\"num work\",work)\n",
    "        h_index=i\n",
    "        break\n",
    "    elif work<i:\n",
    "        print(\"Citations\",i)\n",
    "        print(\"num work\",work)\n",
    "        h_index=i-1\n",
    "        break\n",
    "    \n",
    "print(\"final\",h_index)"
   ]
  },
  {
   "cell_type": "code",
   "execution_count": null,
   "metadata": {},
   "outputs": [],
   "source": [
    "api='https://api.elsevier.com/content/search/index:SCOPUS?query=AUTHLASTNAME(Chiti)&AUTHFIRST(Artur)&apikey=092453898cf0b5a0cd258448bf530541'\n",
    "api=\"https://api.elsevier.com/content/author/author_id/22988279600?apiKey=092453898cf0b5a0cd258448bf530541\"\n",
    "response=requests.get(api)\n",
    "print(response.status_code)\n",
    "result=response.json()\n",
    "print(result)"
   ]
  },
  {
   "cell_type": "code",
   "execution_count": null,
   "metadata": {},
   "outputs": [],
   "source": [
    "api=\"https://api.elsevier.com/content/author/author_id/22988279600?apiKey=092453898cf0b5a0cd258448bf530541\"\n",
    "api=\"http://api.elsevier.com/content/search/author?apikey=092453898cf0b5a0cd258448bf530541&query=AUTHFIRST%28John%29+AND+AUTHLASTNAME%28Kitchin%29+AND+SUBJAREA%28COMP%29\"\n",
    "response= requests.get(api)\n",
    "print(response.status_code)\n"
   ]
  }
 ]
}